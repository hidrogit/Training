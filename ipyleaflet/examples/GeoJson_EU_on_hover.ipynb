{
 "cells": [
  {
   "cell_type": "code",
   "execution_count": 1,
   "metadata": {},
   "outputs": [
    {
     "data": {
      "application/vnd.jupyter.widget-view+json": {
       "model_id": "7e7268c46c604dbfa6132a50e1ac48e5",
       "version_major": 2,
       "version_minor": 0
      },
      "text/plain": [
       "Map(basemap={'url': 'https://{s}.tile.openstreetmap.org/{z}/{x}/{y}.png', 'max_zoom': 19, 'attribution': 'Map …"
      ]
     },
     "metadata": {},
     "output_type": "display_data"
    }
   ],
   "source": [
    "from ipyleaflet import Map, GeoJSON\n",
    "import json\n",
    "import os\n",
    "import requests\n",
    "\n",
    "if not os.path.exists('europe_110.geo.json'):\n",
    "  url = 'https://github.com/jupyter-widgets/ipyleaflet/raw/master/examples/europe_110.geo.json'\n",
    "  r = requests.get(url)\n",
    "  with open('europe_110.geo.json', 'w') as f:\n",
    "    f.write(r.content.decode(\"utf-8\"))\n",
    "\n",
    "with open('europe_110.geo.json', 'r') as f:\n",
    "  data = json.load(f)\n",
    "\n",
    "m = Map(center=(50.6252978589571, 0.34580993652344), zoom=3)\n",
    "geo_json = GeoJSON(data=data, style = {'color': 'green', 'opacity':1, 'weight':1.9, 'dashArray':'9', 'fillOpacity':0.1})\n",
    "m.add_layer(geo_json)\n",
    "\n",
    "m"
   ]
  },
  {
   "cell_type": "code",
   "execution_count": 2,
   "metadata": {},
   "outputs": [],
   "source": [
    "from ipywidgets import Text, HTML\n",
    "from ipyleaflet import WidgetControl, GeoJSON \n",
    "\n",
    "html1 = HTML('''\n",
    "    <h4>EU population density</h4>\n",
    "    Hover over a state\n",
    "''')\n",
    "html1.layout.margin = '0px 20px 20px 20px'\n",
    "control1 = WidgetControl(widget=html1, position='bottomright')\n",
    "m.add_control(control1)\n",
    "\n",
    "def update_html(feature, **kwargs):\n",
    "    html1.value = '''\n",
    "        <h4>EU population density</h4>\n",
    "        <h4><b>{}</b></h4>\n",
    "        {} people / mi^2\n",
    "    '''.format(feature['properties']['name'], feature['properties']['pop_est'])\n",
    "\n",
    "geo_json.on_hover(update_html)"
   ]
  },
  {
   "cell_type": "code",
   "execution_count": null,
   "metadata": {},
   "outputs": [],
   "source": []
  }
 ],
 "metadata": {
  "kernelspec": {
   "display_name": "Python 3",
   "language": "python",
   "name": "python3"
  },
  "language_info": {
   "codemirror_mode": {
    "name": "ipython",
    "version": 3
   },
   "file_extension": ".py",
   "mimetype": "text/x-python",
   "name": "python",
   "nbconvert_exporter": "python",
   "pygments_lexer": "ipython3",
   "version": "3.6.8"
  }
 },
 "nbformat": 4,
 "nbformat_minor": 2
}
